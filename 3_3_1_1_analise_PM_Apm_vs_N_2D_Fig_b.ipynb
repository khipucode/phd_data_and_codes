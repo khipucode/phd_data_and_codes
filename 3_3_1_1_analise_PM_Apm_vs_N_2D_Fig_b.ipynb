{
  "cells": [
    {
      "cell_type": "markdown",
      "metadata": {
        "id": "view-in-github",
        "colab_type": "text"
      },
      "source": [
        "<a href=\"https://colab.research.google.com/github/khipucode/phd_data_and_codes/blob/main/3_3_1_1_analise_PM_Apm_vs_N_2D_Fig_b.ipynb\" target=\"_parent\"><img src=\"https://colab.research.google.com/assets/colab-badge.svg\" alt=\"Open In Colab\"/></a>"
      ]
    },
    {
      "cell_type": "markdown",
      "metadata": {
        "id": "sQ3Ah16ToVSM"
      },
      "source": [
        "# PM FLAT REGION CALCULATION AND PLOTING THE RESULTS"
      ]
    },
    {
      "cell_type": "code",
      "execution_count": 1,
      "metadata": {
        "id": "zvjLZ95cqqAa"
      },
      "outputs": [],
      "source": [
        "import math as mt\n",
        "import numpy as np\n",
        "from mpmath import *\n",
        "import matplotlib.pyplot as plt\n",
        "import matplotlib.ticker as ticker\n",
        "\n",
        "\n",
        "#-------------------------------------------------------------------------------\n",
        "Vpi_pm1  = 3  # Vpi of phase modulator\n",
        "# PM fixed parameters values, these work in cascade configuration\n",
        "ang1pm = 0;  Upm1   =  0;        Tpm1  =  (pi*Upm1/Vpi_pm1);\n",
        "#-------------------------------------------------------------------------------\n",
        "\n",
        "#Function to reduce the extreme components of the vector for SLs comparison-----\n",
        "#The reduction is for a given number of central lines\n",
        "def reduct_vector(up_act, vec_comb, up_new):\n",
        " # up_act = current vector size vec_comb\n",
        " a = int((up_act-up_new)/2)\n",
        " b = int(a + up_new)\n",
        " c = int((up_new-1)/2)\n",
        " ax_rang = range(-c,c+1)\n",
        " ax_new = list(ax_rang)\n",
        " new_vcomb = []\n",
        " for k in range(a,b):\n",
        "  new_vcomb.append(vec_comb[k])\n",
        "\n",
        " return new_vcomb\n",
        "#-------------------------------------------------------------------------------\n"
      ]
    },
    {
      "cell_type": "code",
      "execution_count": 2,
      "metadata": {
        "colab": {
          "base_uri": "https://localhost:8080/",
          "height": 514
        },
        "id": "R1_WsQytuaan",
        "outputId": "ac2a2058-324b-4cef-c55e-6e060e103c7b"
      },
      "outputs": [
        {
          "output_type": "stream",
          "name": "stdout",
          "text": [
            "(0, 0)\n"
          ]
        },
        {
          "output_type": "display_data",
          "data": {
            "text/plain": [
              "<Figure size 900x600 with 0 Axes>"
            ]
          },
          "metadata": {}
        },
        {
          "output_type": "display_data",
          "data": {
            "text/plain": [
              "<Figure size 640x480 with 2 Axes>"
            ],
            "image/png": "[encoded data removed]"
          },
          "metadata": {}
        }
      ],
      "source": [
        "up_n   =  15\n",
        "top_n  =  int((up_n-1)/2)\n",
        "ind_n  =  range(-top_n,top_n+1)\n",
        "E2_pm  =  []\n",
        "\n",
        "\n",
        "up_act          =  up_n\n",
        "#length_flat     =  3    # quantidade de linhas comparadas\n",
        "length_matrix   =  100   # tamanho maixmo da voltagem multiplicado x 10 em V, para usar 20V colocar 200\n",
        "length_matrix_2 =  11   # defasagem do sinal modulante\n",
        "limit_axis_xy   =  length_matrix/10  # used only for plot\n",
        "limit_axis_xy_2 =  length_matrix_2/2\n",
        "mx_st           =  np.zeros((length_matrix, length_matrix_2))\n",
        "\n",
        "\n",
        "Tpm1 = 0\n",
        "\n",
        "for iApm in range(length_matrix):  # Modulation amplitude signal\n",
        "   for N in range(1,length_matrix_2,2):\n",
        "      # var_Amz1b = var_Amz1a - pi/2;\n",
        "        E2_pm     = []\n",
        "        flat_cond = []\n",
        "        temp2     = []\n",
        "        pente_osa = []\n",
        "\n",
        "        for n in ind_n:\n",
        "            J_n_iApm = besselj(n,iApm/10)\n",
        "            temp1    = J_n_iApm*exp(j*(n*ang1pm + Tpm1/10))\n",
        "            temp    = (abs(temp1))**2\n",
        "            E2_pm.append(temp)\n",
        "            #print(temp)\n",
        "\n",
        "        temp2     = [abs(k2) for k2 in E2_pm]\n",
        "        pente_osa = np.square(temp2)\n",
        "        flat_cond = reduct_vector(up_act, pente_osa, N)\n",
        "        st_dev    = 100*np.std(flat_cond)/np.mean(flat_cond)  # foi dividido pela média para o cálculo do fator de variação\n",
        "        mx_st[iApm,N]= st_dev\n",
        "        #print(N)\n",
        "\n",
        "#print(mx_st)\n",
        "posicao_min = np.unravel_index(mx_st.argmin(), mx_st.shape)\n",
        "print(posicao_min)\n",
        "\n",
        "\n",
        "\n",
        "# PLOT PLOT PLOT\n",
        "\n",
        "\n",
        "plt.figure(figsize=(9,6))\n",
        "# Plotando a matriz\n",
        "fig, ax = plt.subplots()\n",
        "cax = ax.imshow(mx_st, aspect='auto', cmap='plasma')  # Alterando o mapa de cores para 'viridis'\n",
        "\n",
        "# Adicionando e configurando o colorbar com o mesmo mapa de cores\n",
        "#colorbar = plt.colorbar(cax, cmap='viridis')\n",
        "cbar = fig.colorbar(cax)\n",
        "cbar.ax.tick_params(labelsize=14)  # Ajusta o tamanho da fonte dos ticks na barra de cores\n",
        "\n",
        "# Configurando os ticks do eixo Y para mostrar apenas valores inteiros, ajustando para a escala de 0.1\n",
        "# Como cada passo representa 0.1 e queremos mostrar apenas os inteiros, configuramos os ticks em intervalos de 10\n",
        "# Estes são equivalentes a 0, 1, 2, ..., 5 no gráfico, multiplicados por 10 para a posição correta.\n",
        "new_range  = length_matrix + 1\n",
        "\n",
        "plt.yticks(np.arange(0, new_range, 10), labels=[str(int(i/10)) for i in np.arange(0, new_range, 10)])\n",
        "\n",
        "# Invertendo o eixo Y para crescer de baixo para cima\n",
        "plt.gca().invert_yaxis()\n",
        "\n",
        "# Configurando os ticks do eixo X\n",
        "plt.xticks(np.arange(0, length_matrix_2, 1))  # Exibir todos os rótulos de 0 a 10\n",
        "\n",
        "ax.tick_params(axis='both', which='major', labelsize=18)  # Muda o tamanho para 14\n",
        "ax.set_xlabel('Eixo X', fontsize=18)  # Define o tamanho da fonte para o rótulo do eixo X\n",
        "ax.set_ylabel('Eixo Y', fontsize=18)  # Define o tamanho da fonte para o rótulo do eixo Y\n",
        "\n",
        "# Adicionando rótulos aos eixos\n",
        "plt.xlabel('$N$')\n",
        "plt.ylabel('$A_{pm}$')\n",
        "#plt.title('Visualização de Matriz 50x11')\n",
        "\n",
        "# Mostrando o gráfico\n",
        "plt.show()"
      ]
    }
  ],
  "metadata": {
    "colab": {
      "provenance": [],
      "authorship_tag": "ABX9TyMh5uHnn2oKlCm10nE7sFfw",
      "include_colab_link": true
    },
    "kernelspec": {
      "display_name": "Python 3",
      "name": "python3"
    },
    "language_info": {
      "name": "python"
    }
  },
  "nbformat": 4,
  "nbformat_minor": 0
}